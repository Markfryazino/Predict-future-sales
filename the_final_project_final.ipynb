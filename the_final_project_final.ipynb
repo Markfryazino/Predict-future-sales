{
  "nbformat": 4,
  "nbformat_minor": 0,
  "metadata": {
    "colab": {
      "name": "the-final-project-final.ipynb",
      "version": "0.3.2",
      "provenance": [],
      "collapsed_sections": [],
      "toc_visible": true
    },
    "kernelspec": {
      "name": "python3",
      "display_name": "Python 3"
    },
    "accelerator": "GPU"
  },
  "cells": [
    {
      "cell_type": "markdown",
      "metadata": {
        "id": "vvrOlDu81yK2",
        "colab_type": "text"
      },
      "source": [
        "#Preparation: importing libraries and loading data#"
      ]
    },
    {
      "cell_type": "markdown",
      "metadata": {
        "id": "tugzFLoIIS-u",
        "colab_type": "text"
      },
      "source": [
        "Please run this notebook in Google Colab and change runtime type for GPU. This is required for fast learning."
      ]
    },
    {
      "cell_type": "code",
      "metadata": {
        "id": "en2h_7331a5E",
        "colab_type": "code",
        "colab": {
          "base_uri": "https://localhost:8080/",
          "height": 221
        },
        "outputId": "25ebe58c-81f1-49b3-e1db-a93a5388474e"
      },
      "source": [
        "#installing the version of xgboost that supports GPU\n",
        "!pip uninstall xgboost\n",
        "!pip install xgboost-0.80-py2.py3-none-manylinux1_x86_64.whl"
      ],
      "execution_count": 1,
      "outputs": [
        {
          "output_type": "stream",
          "text": [
            "Uninstalling xgboost-0.90:\n",
            "  Would remove:\n",
            "    /usr/local/lib/python3.6/dist-packages/xgboost-0.90.dist-info/*\n",
            "    /usr/local/lib/python3.6/dist-packages/xgboost/*\n",
            "    /usr/local/xgboost/libxgboost.so\n",
            "Proceed (y/n)? y\n",
            "  Successfully uninstalled xgboost-0.90\n",
            "Processing ./xgboost-0.80-py2.py3-none-manylinux1_x86_64.whl\n",
            "Requirement already satisfied: numpy in /usr/local/lib/python3.6/dist-packages (from xgboost==0.80) (1.16.4)\n",
            "Requirement already satisfied: scipy in /usr/local/lib/python3.6/dist-packages (from xgboost==0.80) (1.3.0)\n",
            "Installing collected packages: xgboost\n",
            "Successfully installed xgboost-0.80\n"
          ],
          "name": "stdout"
        }
      ]
    },
    {
      "cell_type": "code",
      "metadata": {
        "id": "N8GOeiWl2NwH",
        "colab_type": "code",
        "outputId": "7bd2384d-fc6c-4904-900a-ab09513c3801",
        "colab": {
          "base_uri": "https://localhost:8080/",
          "height": 34
        }
      },
      "source": [
        "#importing essential libraries\n",
        "import pandas as pd\n",
        "import numpy as np\n",
        "import matplotlib.pyplot as plt\n",
        "import seaborn as sns\n",
        "import plotly.offline as py\n",
        "import plotly.graph_objs as go\n",
        "import warnings\n",
        "import xgboost as xgb\n",
        "import gc\n",
        "%matplotlib inline\n",
        "sns.set()\n",
        "\n",
        "warnings.filterwarnings('ignore')\n",
        "print(xgb.__version__)"
      ],
      "execution_count": 2,
      "outputs": [
        {
          "output_type": "stream",
          "text": [
            "0.80\n"
          ],
          "name": "stdout"
        }
      ]
    },
    {
      "cell_type": "code",
      "metadata": {
        "id": "63B0zQrb-0bC",
        "colab_type": "code",
        "colab": {}
      },
      "source": [
        "def downcast_dtypes(df):\n",
        "\n",
        "    float_cols = [c for c in df if df[c].dtype == \"float64\"]\n",
        "    int_cols =   [c for c in df if df[c].dtype == \"int64\"]\n",
        "    \n",
        "    df[float_cols] = df[float_cols].astype(np.float32)\n",
        "    df[int_cols]   = df[int_cols].astype(np.int32)\n",
        "    \n",
        "    return df"
      ],
      "execution_count": 0,
      "outputs": []
    },
    {
      "cell_type": "code",
      "metadata": {
        "id": "aPADSXh93H1-",
        "colab_type": "code",
        "outputId": "0cc645f1-9b89-444b-f527-d3bbc8365500",
        "colab": {
          "base_uri": "https://localhost:8080/",
          "height": 34
        }
      },
      "source": [
        "#loading data\n",
        "sales = pd.read_csv('sales_train_v2.csv')\n",
        "shops = pd.read_csv('shops.csv')\n",
        "items = pd.read_csv('items.csv')\n",
        "item_cat = pd.read_csv('item_categories.csv')\n",
        "test = pd.read_csv('test.csv')\n",
        "sample = pd.read_csv('sample_submission.csv')\n",
        "\n",
        "print(sales.shape)"
      ],
      "execution_count": 4,
      "outputs": [
        {
          "output_type": "stream",
          "text": [
            "(2935849, 6)\n"
          ],
          "name": "stdout"
        }
      ]
    },
    {
      "cell_type": "markdown",
      "metadata": {
        "id": "StiddvukakqU",
        "colab_type": "text"
      },
      "source": [
        "The 'sales' file contains only the cases when the target is not zero, in general that's not true, so we'll have to aggregate more combinations of item_id, shop_id and date_block_num for which target can be 0."
      ]
    },
    {
      "cell_type": "code",
      "metadata": {
        "id": "rMtveldz3X6N",
        "colab_type": "code",
        "outputId": "ff612eec-9e29-4736-86b9-32fb567e7642",
        "colab": {
          "base_uri": "https://localhost:8080/",
          "height": 128
        }
      },
      "source": [
        "from itertools import product\n",
        "index_cols = ['shop_id', 'item_id', 'date_block_num']\n",
        "\n",
        "grid = [] \n",
        "for block_num in sales['date_block_num'].unique():\n",
        "  cur_shops = sales.loc[sales['date_block_num'] == block_num, 'shop_id'].unique()\n",
        "  cur_items = sales.loc[sales['date_block_num'] == block_num, 'item_id'].unique()\n",
        "  grid.append(np.array(list(product(*[cur_shops, cur_items, [block_num]])),dtype='int32'))\n",
        "\n",
        "grid = pd.DataFrame(np.vstack(grid), columns = index_cols,dtype=np.int32)\n",
        "\n",
        "gb = sales.groupby(index_cols,as_index=False).agg({'item_cnt_day':{'item_cnt_month':'sum'}})\n",
        "gb.columns = [col[0] if col[-1]=='' else col[-1] for col in gb.columns.values] \n",
        "train = pd.merge(grid, gb, how='left', on=index_cols).fillna(0)\n",
        "\n",
        "train = downcast_dtypes(train)\n",
        "\n",
        "del gb, grid\n",
        "gc.collect();\n",
        "\n",
        "print(train.shape)\n",
        "train.head(2)"
      ],
      "execution_count": 5,
      "outputs": [
        {
          "output_type": "stream",
          "text": [
            "(10913850, 4)\n"
          ],
          "name": "stdout"
        },
        {
          "output_type": "execute_result",
          "data": {
            "text/html": [
              "<div>\n",
              "<style scoped>\n",
              "    .dataframe tbody tr th:only-of-type {\n",
              "        vertical-align: middle;\n",
              "    }\n",
              "\n",
              "    .dataframe tbody tr th {\n",
              "        vertical-align: top;\n",
              "    }\n",
              "\n",
              "    .dataframe thead th {\n",
              "        text-align: right;\n",
              "    }\n",
              "</style>\n",
              "<table border=\"1\" class=\"dataframe\">\n",
              "  <thead>\n",
              "    <tr style=\"text-align: right;\">\n",
              "      <th></th>\n",
              "      <th>shop_id</th>\n",
              "      <th>item_id</th>\n",
              "      <th>date_block_num</th>\n",
              "      <th>item_cnt_month</th>\n",
              "    </tr>\n",
              "  </thead>\n",
              "  <tbody>\n",
              "    <tr>\n",
              "      <th>0</th>\n",
              "      <td>59</td>\n",
              "      <td>22154</td>\n",
              "      <td>0</td>\n",
              "      <td>1.0</td>\n",
              "    </tr>\n",
              "    <tr>\n",
              "      <th>1</th>\n",
              "      <td>59</td>\n",
              "      <td>2552</td>\n",
              "      <td>0</td>\n",
              "      <td>0.0</td>\n",
              "    </tr>\n",
              "  </tbody>\n",
              "</table>\n",
              "</div>"
            ],
            "text/plain": [
              "   shop_id  item_id  date_block_num  item_cnt_month\n",
              "0       59    22154               0             1.0\n",
              "1       59     2552               0             0.0"
            ]
          },
          "metadata": {
            "tags": []
          },
          "execution_count": 5
        }
      ]
    },
    {
      "cell_type": "code",
      "metadata": {
        "id": "GRk16-JVDWwz",
        "colab_type": "code",
        "colab": {}
      },
      "source": [
        "#sorting train set with respect to date (just in case)\n",
        "train = train.sort_values('date_block_num').reset_index(drop = True)"
      ],
      "execution_count": 0,
      "outputs": []
    },
    {
      "cell_type": "markdown",
      "metadata": {
        "id": "K6dHjKjd0JKp",
        "colab_type": "text"
      },
      "source": [
        "We'll clip target value in (0, 20) interval for more stable model."
      ]
    },
    {
      "cell_type": "code",
      "metadata": {
        "id": "fKz7_WXtkHr1",
        "colab_type": "code",
        "colab": {}
      },
      "source": [
        "train['item_cnt_month'] = train['item_cnt_month'].clip(0, 20)"
      ],
      "execution_count": 0,
      "outputs": []
    },
    {
      "cell_type": "code",
      "metadata": {
        "id": "8OXHa6FND3zb",
        "colab_type": "code",
        "outputId": "e6fc9e9b-0111-4a6c-b53e-249e04c1dbe2",
        "colab": {
          "base_uri": "https://localhost:8080/",
          "height": 34
        }
      },
      "source": [
        "#concatenating train and test so that it's more convinient to generate features\n",
        "test_plus = test.drop(['ID'], axis = 1)\n",
        "test_plus['date_block_num'] = 34\n",
        "test_plus['item_cnt_month'] = 0.\n",
        "data = pd.concat([train, test_plus])\n",
        "\n",
        "del train, test_plus\n",
        "gc.collect()\n",
        "data.shape"
      ],
      "execution_count": 8,
      "outputs": [
        {
          "output_type": "execute_result",
          "data": {
            "text/plain": [
              "(11128050, 4)"
            ]
          },
          "metadata": {
            "tags": []
          },
          "execution_count": 8
        }
      ]
    },
    {
      "cell_type": "markdown",
      "metadata": {
        "id": "bRnlvPdQ3UpG",
        "colab_type": "text"
      },
      "source": [
        "#The basic feature engineering#"
      ]
    },
    {
      "cell_type": "markdown",
      "metadata": {
        "id": "bqO01492EQUE",
        "colab_type": "text"
      },
      "source": [
        "First of all, let's add some lag based features."
      ]
    },
    {
      "cell_type": "code",
      "metadata": {
        "id": "mCtbc9VIEWN7",
        "colab_type": "code",
        "outputId": "f5740278-9da2-482e-904f-cae517d6fc55",
        "colab": {
          "base_uri": "https://localhost:8080/",
          "height": 119
        }
      },
      "source": [
        "#getting the sales for four previous months and for two months a year before\n",
        "temp = data.set_index(['date_block_num', 'shop_id', 'item_id'])\n",
        "\n",
        "for i in range(1, 5):\n",
        "  data = data.join(temp, on = [data['date_block_num'] - i, 'shop_id', 'item_id'], rsuffix = '_lag' + str(i))\n",
        "  print(i)\n",
        "  gc.collect()\n",
        "  \n",
        "data = data.join(temp, on = [data['date_block_num'] - 12, 'shop_id', 'item_id'], rsuffix = '_lag' + '12')\n",
        "gc.collect()\n",
        "print(12)\n",
        "data = data.join(temp, on = [data['date_block_num'] - 13, 'shop_id', 'item_id'], rsuffix = '_lag' + '13')\n",
        "gc.collect()\n",
        "print(13)"
      ],
      "execution_count": 9,
      "outputs": [
        {
          "output_type": "stream",
          "text": [
            "1\n",
            "2\n",
            "3\n",
            "4\n",
            "12\n",
            "13\n"
          ],
          "name": "stdout"
        }
      ]
    },
    {
      "cell_type": "code",
      "metadata": {
        "id": "W-tND6SgE-Fl",
        "colab_type": "code",
        "outputId": "b225119f-57b7-4ec9-8b9f-beb894263524",
        "colab": {
          "base_uri": "https://localhost:8080/",
          "height": 34
        }
      },
      "source": [
        "#trying to exploit seasonal trends\n",
        "data['previous_uplift'] = data['item_cnt_month_lag12'] - data['item_cnt_month_lag13']\n",
        "data['same_uplift'] = data['item_cnt_month_lag1'] + data['previous_uplift']\n",
        "\n",
        "data = downcast_dtypes(data)\n",
        "gc.collect()"
      ],
      "execution_count": 10,
      "outputs": [
        {
          "output_type": "execute_result",
          "data": {
            "text/plain": [
              "54"
            ]
          },
          "metadata": {
            "tags": []
          },
          "execution_count": 10
        }
      ]
    },
    {
      "cell_type": "code",
      "metadata": {
        "id": "c_ekEqewGHHK",
        "colab_type": "code",
        "outputId": "10565213-fd65-4e02-85ae-8d77a05785b9",
        "colab": {
          "base_uri": "https://localhost:8080/",
          "height": 34
        }
      },
      "source": [
        "#sales with respect to shops and items for previous four months\n",
        "item_sales = data.groupby(['item_id', 'date_block_num'])['item_cnt_month'].sum().reset_index()\n",
        "shop_sales = data.groupby(['shop_id', 'date_block_num'])['item_cnt_month'].sum().reset_index()\n",
        "\n",
        "for i in range(1, 5):\n",
        "  data = data.join(item_sales.set_index(['item_id', 'date_block_num']), on = ['item_id', data['date_block_num'] - i], \n",
        "                  rsuffix = '_item_sum_' + str(i))\n",
        "  data = data.join(shop_sales.set_index(['shop_id', 'date_block_num']), on = ['shop_id', data['date_block_num'] - i], \n",
        "                  rsuffix = '_shop_sum_' + str(i))\n",
        "gc.collect()"
      ],
      "execution_count": 11,
      "outputs": [
        {
          "output_type": "execute_result",
          "data": {
            "text/plain": [
              "308"
            ]
          },
          "metadata": {
            "tags": []
          },
          "execution_count": 11
        }
      ]
    },
    {
      "cell_type": "code",
      "metadata": {
        "id": "tlKoCIDdXvUt",
        "colab_type": "code",
        "outputId": "06a7acae-c85e-4c35-f7b9-0af8c4a22754",
        "colab": {
          "base_uri": "https://localhost:8080/",
          "height": 34
        }
      },
      "source": [
        "#the time series differentiation\n",
        "\n",
        "data['diff1'] = data['item_cnt_month_lag1'] - data['item_cnt_month_lag2']\n",
        "data['diff2'] = data['item_cnt_month_lag2'] - data['item_cnt_month_lag3']\n",
        "data['diff3'] = data['item_cnt_month_lag3'] - data['item_cnt_month_lag4']\n",
        "\n",
        "data = downcast_dtypes(data)\n",
        "gc.collect()"
      ],
      "execution_count": 12,
      "outputs": [
        {
          "output_type": "execute_result",
          "data": {
            "text/plain": [
              "34"
            ]
          },
          "metadata": {
            "tags": []
          },
          "execution_count": 12
        }
      ]
    },
    {
      "cell_type": "code",
      "metadata": {
        "id": "sP6bXFwWGixG",
        "colab_type": "code",
        "colab": {}
      },
      "source": [
        "#handling price\n",
        "prices = sales.groupby(['shop_id', 'item_id', 'date_block_num'])['item_price'].mean()\n",
        "data = data.join(prices, on = ['shop_id', 'item_id', data['date_block_num'] - 1])"
      ],
      "execution_count": 0,
      "outputs": []
    },
    {
      "cell_type": "code",
      "metadata": {
        "id": "N7AXN4ENHyLb",
        "colab_type": "code",
        "colab": {}
      },
      "source": [
        "#adding revenue for previous month\n",
        "data['revenue'] = data['item_cnt_month_lag1'] * data['item_price']"
      ],
      "execution_count": 0,
      "outputs": []
    },
    {
      "cell_type": "markdown",
      "metadata": {
        "id": "y5s7iIEYfOa_",
        "colab_type": "text"
      },
      "source": [
        "Time to add price lags\n",
        "\n",
        "With respect to items:"
      ]
    },
    {
      "cell_type": "code",
      "metadata": {
        "id": "6P1vqkN7fQce",
        "colab_type": "code",
        "colab": {}
      },
      "source": [
        "n_shops = shops.shape[0]\n",
        "item_prices_mean = sales.groupby(['item_id', 'date_block_num'])['item_price'].mean()\n",
        "\n",
        "for i in range(1, 4):\n",
        "  item_prices_mean.rename('item_prices_mean_lag' + str(i), inplace = True)\n",
        "  data = data.join(item_prices_mean, on = ['item_id', data['date_block_num'] - i])\n",
        "  gc.collect()"
      ],
      "execution_count": 0,
      "outputs": []
    },
    {
      "cell_type": "markdown",
      "metadata": {
        "id": "v2wH7DrAjK2P",
        "colab_type": "text"
      },
      "source": [
        "With respect to shops:"
      ]
    },
    {
      "cell_type": "code",
      "metadata": {
        "id": "fB_9UYxojM7G",
        "colab_type": "code",
        "colab": {}
      },
      "source": [
        "n_items = items.shape[0]\n",
        "shop_prices_mean = sales.groupby(['shop_id', 'date_block_num'])['item_price'].mean()\n",
        "\n",
        "for i in range(1, 4):\n",
        "  shop_prices_mean.rename('shop_prices_mean_lag' + str(i), inplace = True)\n",
        "  data = data.join(shop_prices_mean, on = ['shop_id', data['date_block_num'] - i])\n",
        "  gc.collect()"
      ],
      "execution_count": 0,
      "outputs": []
    },
    {
      "cell_type": "markdown",
      "metadata": {
        "id": "_jAnV1MOIXcy",
        "colab_type": "text"
      },
      "source": [
        "Now, revenue is NaN if no items were bought in the shop and the price is NaN in the same case. But we can't fill NaNs in price with zeros, so let's just fill it with the mean price of this item."
      ]
    },
    {
      "cell_type": "code",
      "metadata": {
        "id": "kjZQUqbYIw-W",
        "colab_type": "code",
        "colab": {}
      },
      "source": [
        "data['item_price_mean'] = data.groupby(['item_id'])['item_price'].transform('mean')\n",
        "data['shop_price_mean'] = data.groupby(['shop_id'])['item_price'].transform('mean')\n",
        "\n",
        "data['item_price'].fillna(data['item_price_mean'], inplace = True)\n",
        "for i in range(1,4):\n",
        "  data['item_prices_mean_lag' + str(i)].fillna(data['item_price_mean'])\n",
        "  data['shop_prices_mean_lag' + str(i)].fillna(data['shop_price_mean'])  "
      ],
      "execution_count": 0,
      "outputs": []
    },
    {
      "cell_type": "markdown",
      "metadata": {
        "id": "gYTtdmEIKO-s",
        "colab_type": "text"
      },
      "source": [
        "But there are still some NaNs and now we can do nothing but fill them with global mean."
      ]
    },
    {
      "cell_type": "code",
      "metadata": {
        "id": "90KKU5euJxqy",
        "colab_type": "code",
        "colab": {}
      },
      "source": [
        "data['item_price'].fillna(data['item_price'].mean(), inplace = True)"
      ],
      "execution_count": 0,
      "outputs": []
    },
    {
      "cell_type": "markdown",
      "metadata": {
        "id": "EbO4dPMaFUe_",
        "colab_type": "text"
      },
      "source": [
        "And let's add month as it can be useful."
      ]
    },
    {
      "cell_type": "code",
      "metadata": {
        "id": "GKBa827xKsHK",
        "colab_type": "code",
        "colab": {}
      },
      "source": [
        "data['month'] = data['date_block_num'] % 12"
      ],
      "execution_count": 0,
      "outputs": []
    },
    {
      "cell_type": "markdown",
      "metadata": {
        "id": "KgrHnsdzK4qa",
        "colab_type": "text"
      },
      "source": [
        "#Some EDA#"
      ]
    },
    {
      "cell_type": "markdown",
      "metadata": {
        "id": "ngSEh12cK950",
        "colab_type": "text"
      },
      "source": [
        "Let's look at shops."
      ]
    },
    {
      "cell_type": "code",
      "metadata": {
        "id": "osUd0o6PLBKO",
        "colab_type": "code",
        "outputId": "d587489d-db9e-480c-9ea0-817b9f388194",
        "colab": {
          "base_uri": "https://localhost:8080/",
          "height": 266
        }
      },
      "source": [
        "shops.head(7)"
      ],
      "execution_count": 20,
      "outputs": [
        {
          "output_type": "execute_result",
          "data": {
            "text/html": [
              "<div>\n",
              "<style scoped>\n",
              "    .dataframe tbody tr th:only-of-type {\n",
              "        vertical-align: middle;\n",
              "    }\n",
              "\n",
              "    .dataframe tbody tr th {\n",
              "        vertical-align: top;\n",
              "    }\n",
              "\n",
              "    .dataframe thead th {\n",
              "        text-align: right;\n",
              "    }\n",
              "</style>\n",
              "<table border=\"1\" class=\"dataframe\">\n",
              "  <thead>\n",
              "    <tr style=\"text-align: right;\">\n",
              "      <th></th>\n",
              "      <th>shop_name</th>\n",
              "      <th>shop_id</th>\n",
              "    </tr>\n",
              "  </thead>\n",
              "  <tbody>\n",
              "    <tr>\n",
              "      <th>0</th>\n",
              "      <td>!Якутск Орджоникидзе, 56 фран</td>\n",
              "      <td>0</td>\n",
              "    </tr>\n",
              "    <tr>\n",
              "      <th>1</th>\n",
              "      <td>!Якутск ТЦ \"Центральный\" фран</td>\n",
              "      <td>1</td>\n",
              "    </tr>\n",
              "    <tr>\n",
              "      <th>2</th>\n",
              "      <td>Адыгея ТЦ \"Мега\"</td>\n",
              "      <td>2</td>\n",
              "    </tr>\n",
              "    <tr>\n",
              "      <th>3</th>\n",
              "      <td>Балашиха ТРК \"Октябрь-Киномир\"</td>\n",
              "      <td>3</td>\n",
              "    </tr>\n",
              "    <tr>\n",
              "      <th>4</th>\n",
              "      <td>Волжский ТЦ \"Волга Молл\"</td>\n",
              "      <td>4</td>\n",
              "    </tr>\n",
              "    <tr>\n",
              "      <th>5</th>\n",
              "      <td>Вологда ТРЦ \"Мармелад\"</td>\n",
              "      <td>5</td>\n",
              "    </tr>\n",
              "    <tr>\n",
              "      <th>6</th>\n",
              "      <td>Воронеж (Плехановская, 13)</td>\n",
              "      <td>6</td>\n",
              "    </tr>\n",
              "  </tbody>\n",
              "</table>\n",
              "</div>"
            ],
            "text/plain": [
              "                        shop_name  shop_id\n",
              "0   !Якутск Орджоникидзе, 56 фран        0\n",
              "1   !Якутск ТЦ \"Центральный\" фран        1\n",
              "2                Адыгея ТЦ \"Мега\"        2\n",
              "3  Балашиха ТРК \"Октябрь-Киномир\"        3\n",
              "4        Волжский ТЦ \"Волга Молл\"        4\n",
              "5          Вологда ТРЦ \"Мармелад\"        5\n",
              "6      Воронеж (Плехановская, 13)        6"
            ]
          },
          "metadata": {
            "tags": []
          },
          "execution_count": 20
        }
      ]
    },
    {
      "cell_type": "markdown",
      "metadata": {
        "id": "ENInXFU1LLo_",
        "colab_type": "text"
      },
      "source": [
        "It seems that all shop names begin with the name of the city where they are located. 'Адыгея', 'Балашиха', 'Вологда' - all of them are Russian towns."
      ]
    },
    {
      "cell_type": "code",
      "metadata": {
        "id": "x8exNuoCLfg7",
        "colab_type": "code",
        "outputId": "cdcac98d-7b7b-4fed-8c7d-0c5feac88f59",
        "colab": {
          "base_uri": "https://localhost:8080/",
          "height": 119
        }
      },
      "source": [
        "shops['shop_city'] = shops['shop_name'].apply(lambda x: x.split()[0])\n",
        "shops['shop_city'].unique()"
      ],
      "execution_count": 21,
      "outputs": [
        {
          "output_type": "execute_result",
          "data": {
            "text/plain": [
              "array(['!Якутск', 'Адыгея', 'Балашиха', 'Волжский', 'Вологда', 'Воронеж',\n",
              "       'Выездная', 'Жуковский', 'Интернет-магазин', 'Казань', 'Калуга',\n",
              "       'Коломна', 'Красноярск', 'Курск', 'Москва', 'Мытищи', 'Н.Новгород',\n",
              "       'Новосибирск', 'Омск', 'РостовНаДону', 'СПб', 'Самара', 'Сергиев',\n",
              "       'Сургут', 'Томск', 'Тюмень', 'Уфа', 'Химки', 'Цифровой', 'Чехов',\n",
              "       'Якутск', 'Ярославль'], dtype=object)"
            ]
          },
          "metadata": {
            "tags": []
          },
          "execution_count": 21
        }
      ]
    },
    {
      "cell_type": "markdown",
      "metadata": {
        "id": "8X-UH2nAL7Pw",
        "colab_type": "text"
      },
      "source": [
        "This seems almost fine, but:\n",
        "\n",
        "\n",
        "*   '!Якутск' and 'Якутск' are basically the same city.\n",
        "*   'Интернет-магазин' means an online shop, so we can add a new feature 'purchased_on_Internet'.\n",
        "\n"
      ]
    },
    {
      "cell_type": "code",
      "metadata": {
        "id": "YS05ytV0Mf36",
        "colab_type": "code",
        "colab": {}
      },
      "source": [
        "shops['shop_city'].replace({'!Якутск' : 'Якутск'}, inplace = True)\n",
        "shops['purchased_on_Internet'] = shops['shop_city'].apply(lambda x: int(x == 'Интернет-магазин'))"
      ],
      "execution_count": 0,
      "outputs": []
    },
    {
      "cell_type": "markdown",
      "metadata": {
        "id": "2ra74o6-NUKZ",
        "colab_type": "text"
      },
      "source": [
        "Let's deal with items."
      ]
    },
    {
      "cell_type": "code",
      "metadata": {
        "id": "yDtB-CIRNXbM",
        "colab_type": "code",
        "outputId": "9c3dc96e-5822-436e-ab2b-ba0a34ba818c",
        "colab": {
          "base_uri": "https://localhost:8080/",
          "height": 266
        }
      },
      "source": [
        "items.head(7)"
      ],
      "execution_count": 23,
      "outputs": [
        {
          "output_type": "execute_result",
          "data": {
            "text/html": [
              "<div>\n",
              "<style scoped>\n",
              "    .dataframe tbody tr th:only-of-type {\n",
              "        vertical-align: middle;\n",
              "    }\n",
              "\n",
              "    .dataframe tbody tr th {\n",
              "        vertical-align: top;\n",
              "    }\n",
              "\n",
              "    .dataframe thead th {\n",
              "        text-align: right;\n",
              "    }\n",
              "</style>\n",
              "<table border=\"1\" class=\"dataframe\">\n",
              "  <thead>\n",
              "    <tr style=\"text-align: right;\">\n",
              "      <th></th>\n",
              "      <th>item_name</th>\n",
              "      <th>item_id</th>\n",
              "      <th>item_category_id</th>\n",
              "    </tr>\n",
              "  </thead>\n",
              "  <tbody>\n",
              "    <tr>\n",
              "      <th>0</th>\n",
              "      <td>! ВО ВЛАСТИ НАВАЖДЕНИЯ (ПЛАСТ.)         D</td>\n",
              "      <td>0</td>\n",
              "      <td>40</td>\n",
              "    </tr>\n",
              "    <tr>\n",
              "      <th>1</th>\n",
              "      <td>!ABBYY FineReader 12 Professional Edition Full...</td>\n",
              "      <td>1</td>\n",
              "      <td>76</td>\n",
              "    </tr>\n",
              "    <tr>\n",
              "      <th>2</th>\n",
              "      <td>***В ЛУЧАХ СЛАВЫ   (UNV)                    D</td>\n",
              "      <td>2</td>\n",
              "      <td>40</td>\n",
              "    </tr>\n",
              "    <tr>\n",
              "      <th>3</th>\n",
              "      <td>***ГОЛУБАЯ ВОЛНА  (Univ)                      D</td>\n",
              "      <td>3</td>\n",
              "      <td>40</td>\n",
              "    </tr>\n",
              "    <tr>\n",
              "      <th>4</th>\n",
              "      <td>***КОРОБКА (СТЕКЛО)                       D</td>\n",
              "      <td>4</td>\n",
              "      <td>40</td>\n",
              "    </tr>\n",
              "    <tr>\n",
              "      <th>5</th>\n",
              "      <td>***НОВЫЕ АМЕРИКАНСКИЕ ГРАФФИТИ  (UNI)         ...</td>\n",
              "      <td>5</td>\n",
              "      <td>40</td>\n",
              "    </tr>\n",
              "    <tr>\n",
              "      <th>6</th>\n",
              "      <td>***УДАР ПО ВОРОТАМ (UNI)               D</td>\n",
              "      <td>6</td>\n",
              "      <td>40</td>\n",
              "    </tr>\n",
              "  </tbody>\n",
              "</table>\n",
              "</div>"
            ],
            "text/plain": [
              "                                           item_name  item_id  item_category_id\n",
              "0          ! ВО ВЛАСТИ НАВАЖДЕНИЯ (ПЛАСТ.)         D        0                40\n",
              "1  !ABBYY FineReader 12 Professional Edition Full...        1                76\n",
              "2      ***В ЛУЧАХ СЛАВЫ   (UNV)                    D        2                40\n",
              "3    ***ГОЛУБАЯ ВОЛНА  (Univ)                      D        3                40\n",
              "4        ***КОРОБКА (СТЕКЛО)                       D        4                40\n",
              "5  ***НОВЫЕ АМЕРИКАНСКИЕ ГРАФФИТИ  (UNI)         ...        5                40\n",
              "6           ***УДАР ПО ВОРОТАМ (UNI)               D        6                40"
            ]
          },
          "metadata": {
            "tags": []
          },
          "execution_count": 23
        }
      ]
    },
    {
      "cell_type": "markdown",
      "metadata": {
        "id": "7-JEisdUODvJ",
        "colab_type": "text"
      },
      "source": [
        "Interesting, items have a weird letter 'D' in the end of their names. What could it be?"
      ]
    },
    {
      "cell_type": "code",
      "metadata": {
        "id": "4Q-1bpTtOlCm",
        "colab_type": "code",
        "outputId": "8cec7112-f5f8-4657-f8ab-2d6c033a6135",
        "colab": {
          "base_uri": "https://localhost:8080/",
          "height": 204
        }
      },
      "source": [
        "items['item_name'].apply(lambda x: x[-1]).unique()"
      ],
      "execution_count": 24,
      "outputs": [
        {
          "output_type": "execute_result",
          "data": {
            "text/plain": [
              "array(['D', ']', 'ь', ')', '2', 'С', 'О', '/', 'Д', 'П', '»', '1', 'Я',\n",
              "       'd', '.', 'В', 'А', 'Й', 'и', 'Ы', '\"', 'в', 'к', 'а', 'т', 'е',\n",
              "       'й', 'я', 'о', 'у', 'ы', 'k', 'р', '3', 'х', 'м', 'с', '!', 'B',\n",
              "       'з', '8', '6', 'e', 'm', ',', '0', 'н', 'P', 'п', '5', '[', 'Э',\n",
              "       'Е', '4', 'И', 'Н', 's', 'r', 'г', 'д', 'L', 'S', '9', 'n', '?',\n",
              "       'М', 'l', 'g', 't', 'o', 'h', 'c', 'a', 'f', 'y', 'X', 'O', 'G',\n",
              "       'p', 'i', 'w', 'M', 'x', 'W', 'Р', 'u', 'z', 'C', 'E', 'К', 'N',\n",
              "       'T', '7', 'У', 'I', 'A', 'Ц', 'л', 'ф', 'ч', 'Ь', 'K', 'U', ':',\n",
              "       'H', 'R', 'V', 'Ю', 'Т', 'Ъ', 'Л', 'Ж', 'Y', 'Х', 'Ш', '+', 'Б',\n",
              "       'ц', 'Z', 'Г', 'э', 'б', '*', 'ю', 'Ф', 'ё', 'Щ', 'Ч', 'ш', 'ж',\n",
              "       'b', 'З', 'J', 'щ', 'F', 'ъ'], dtype=object)"
            ]
          },
          "metadata": {
            "tags": []
          },
          "execution_count": 24
        }
      ]
    },
    {
      "cell_type": "markdown",
      "metadata": {
        "id": "MH8NclB-PHBp",
        "colab_type": "text"
      },
      "source": [
        "Some of items have in the just letters in the lowercase or numbers - the stuff you expect to see in the end of the item_name, but some have these english uppercase letters. I have no idea what this means but we have to use it somehow."
      ]
    },
    {
      "cell_type": "code",
      "metadata": {
        "id": "aImcPQolQNUD",
        "colab_type": "code",
        "colab": {}
      },
      "source": [
        "items['last_letter'] = items['item_name'].apply(lambda x: x[-1])\n",
        "items['last_letter_weird'] = items['last_letter'].apply(lambda x: int((ord(x) >= ord('A')) and (ord(x) <= ord('Z'))))"
      ],
      "execution_count": 0,
      "outputs": []
    },
    {
      "cell_type": "markdown",
      "metadata": {
        "id": "C6AWwvTFRdAZ",
        "colab_type": "text"
      },
      "source": [
        "And, finally, let's investigate categories."
      ]
    },
    {
      "cell_type": "code",
      "metadata": {
        "id": "Z8h3CvR5Riqp",
        "colab_type": "code",
        "outputId": "c6072a8c-5835-466c-e63d-a5094c9e7103",
        "colab": {
          "base_uri": "https://localhost:8080/",
          "height": 266
        }
      },
      "source": [
        "item_cat.head(7)"
      ],
      "execution_count": 26,
      "outputs": [
        {
          "output_type": "execute_result",
          "data": {
            "text/html": [
              "<div>\n",
              "<style scoped>\n",
              "    .dataframe tbody tr th:only-of-type {\n",
              "        vertical-align: middle;\n",
              "    }\n",
              "\n",
              "    .dataframe tbody tr th {\n",
              "        vertical-align: top;\n",
              "    }\n",
              "\n",
              "    .dataframe thead th {\n",
              "        text-align: right;\n",
              "    }\n",
              "</style>\n",
              "<table border=\"1\" class=\"dataframe\">\n",
              "  <thead>\n",
              "    <tr style=\"text-align: right;\">\n",
              "      <th></th>\n",
              "      <th>item_category_name</th>\n",
              "      <th>item_category_id</th>\n",
              "    </tr>\n",
              "  </thead>\n",
              "  <tbody>\n",
              "    <tr>\n",
              "      <th>0</th>\n",
              "      <td>PC - Гарнитуры/Наушники</td>\n",
              "      <td>0</td>\n",
              "    </tr>\n",
              "    <tr>\n",
              "      <th>1</th>\n",
              "      <td>Аксессуары - PS2</td>\n",
              "      <td>1</td>\n",
              "    </tr>\n",
              "    <tr>\n",
              "      <th>2</th>\n",
              "      <td>Аксессуары - PS3</td>\n",
              "      <td>2</td>\n",
              "    </tr>\n",
              "    <tr>\n",
              "      <th>3</th>\n",
              "      <td>Аксессуары - PS4</td>\n",
              "      <td>3</td>\n",
              "    </tr>\n",
              "    <tr>\n",
              "      <th>4</th>\n",
              "      <td>Аксессуары - PSP</td>\n",
              "      <td>4</td>\n",
              "    </tr>\n",
              "    <tr>\n",
              "      <th>5</th>\n",
              "      <td>Аксессуары - PSVita</td>\n",
              "      <td>5</td>\n",
              "    </tr>\n",
              "    <tr>\n",
              "      <th>6</th>\n",
              "      <td>Аксессуары - XBOX 360</td>\n",
              "      <td>6</td>\n",
              "    </tr>\n",
              "  </tbody>\n",
              "</table>\n",
              "</div>"
            ],
            "text/plain": [
              "        item_category_name  item_category_id\n",
              "0  PC - Гарнитуры/Наушники                 0\n",
              "1         Аксессуары - PS2                 1\n",
              "2         Аксессуары - PS3                 2\n",
              "3         Аксессуары - PS4                 3\n",
              "4         Аксессуары - PSP                 4\n",
              "5      Аксессуары - PSVita                 5\n",
              "6    Аксессуары - XBOX 360                 6"
            ]
          },
          "metadata": {
            "tags": []
          },
          "execution_count": 26
        }
      ]
    },
    {
      "cell_type": "markdown",
      "metadata": {
        "id": "l4n81-wWSJgi",
        "colab_type": "text"
      },
      "source": [
        "If we look at the names, we'll see that many of them consist of two separate parts divided by dash. We can use that."
      ]
    },
    {
      "cell_type": "code",
      "metadata": {
        "id": "Cc_VmGIGWgIF",
        "colab_type": "code",
        "colab": {}
      },
      "source": [
        "item_cat['first_part_of_name'] = item_cat['item_category_name'].apply(lambda x: x.split('-')[0])\n",
        "item_cat['second_part_of_name'] = item_cat['item_category_name'].apply(lambda x: x.split('-')[-1])"
      ],
      "execution_count": 0,
      "outputs": []
    },
    {
      "cell_type": "markdown",
      "metadata": {
        "id": "yjycUizWXZje",
        "colab_type": "text"
      },
      "source": [
        "Let's also apply TF-IDF to category names and item names."
      ]
    },
    {
      "cell_type": "code",
      "metadata": {
        "id": "msz7FpdXYDsg",
        "colab_type": "code",
        "colab": {}
      },
      "source": [
        "#extracting features from text via TF-IDF\n",
        "from sklearn.feature_extraction.text import TfidfVectorizer\n",
        "\n",
        "items_corpus = items['item_name']\n",
        "item_cat_corpus = item_cat['item_category_name']\n",
        "\n",
        "vectorizer = TfidfVectorizer()\n",
        "item_tfidf = vectorizer.fit_transform(items_corpus)\n",
        "item_cat_tfidf = vectorizer.fit_transform(item_cat_corpus)"
      ],
      "execution_count": 0,
      "outputs": []
    },
    {
      "cell_type": "markdown",
      "metadata": {
        "id": "e8FgYSSvYMAf",
        "colab_type": "text"
      },
      "source": [
        "However, these matrices are too big to use them raw. We'll decompose them with Non-negative matrix factorization."
      ]
    },
    {
      "cell_type": "code",
      "metadata": {
        "id": "nAx3JrJZYhGW",
        "colab_type": "code",
        "colab": {}
      },
      "source": [
        "from sklearn.decomposition import NMF\n",
        "nmf = NMF(n_components = 5)\n",
        "\n",
        "item_nmf = nmf.fit_transform(item_tfidf)\n",
        "item_cat_nmf = nmf.fit_transform(item_cat_tfidf)\n",
        "\n",
        "item_cols = ['item_TF-IDF' + str(i) for i in range(5)] \n",
        "item_cat_cols = ['item_cat_TF-IDF' + str(i) for i in range(5)]\n",
        "\n",
        "items = pd.concat([items, pd.DataFrame(item_nmf, columns = item_cols)], axis = 1, sort = False)\n",
        "item_cat = pd.concat([item_cat, pd.DataFrame(item_cat_nmf, columns = item_cat_cols)], axis = 1, sort = False)"
      ],
      "execution_count": 0,
      "outputs": []
    },
    {
      "cell_type": "markdown",
      "metadata": {
        "id": "bqnpNbJHYv_Q",
        "colab_type": "text"
      },
      "source": [
        "And, finally, we'll add them to data."
      ]
    },
    {
      "cell_type": "code",
      "metadata": {
        "id": "G_ODH-HbZA6Z",
        "colab_type": "code",
        "outputId": "50701516-b907-4c3d-ec2f-606d9da1fbb8",
        "colab": {
          "base_uri": "https://localhost:8080/",
          "height": 182
        }
      },
      "source": [
        "data = data.join(items.set_index('item_id'), on = 'item_id')\n",
        "data = data.join(shops.set_index('shop_id'), on = 'shop_id')\n",
        "data = data.join(item_cat.set_index('item_category_id'), on = 'item_category_id')\n",
        "data.drop(['item_name', 'shop_name', 'item_category_name'], axis = 1, inplace = True) #We don't need this\n",
        "print(data.shape)\n",
        "gc.collect()\n",
        "data.head(2)"
      ],
      "execution_count": 30,
      "outputs": [
        {
          "output_type": "stream",
          "text": [
            "(11128050, 51)\n"
          ],
          "name": "stdout"
        },
        {
          "output_type": "execute_result",
          "data": {
            "text/html": [
              "<div>\n",
              "<style scoped>\n",
              "    .dataframe tbody tr th:only-of-type {\n",
              "        vertical-align: middle;\n",
              "    }\n",
              "\n",
              "    .dataframe tbody tr th {\n",
              "        vertical-align: top;\n",
              "    }\n",
              "\n",
              "    .dataframe thead th {\n",
              "        text-align: right;\n",
              "    }\n",
              "</style>\n",
              "<table border=\"1\" class=\"dataframe\">\n",
              "  <thead>\n",
              "    <tr style=\"text-align: right;\">\n",
              "      <th></th>\n",
              "      <th>shop_id</th>\n",
              "      <th>item_id</th>\n",
              "      <th>date_block_num</th>\n",
              "      <th>item_cnt_month</th>\n",
              "      <th>item_cnt_month_lag1</th>\n",
              "      <th>item_cnt_month_lag2</th>\n",
              "      <th>item_cnt_month_lag3</th>\n",
              "      <th>item_cnt_month_lag4</th>\n",
              "      <th>item_cnt_month_lag12</th>\n",
              "      <th>item_cnt_month_lag13</th>\n",
              "      <th>previous_uplift</th>\n",
              "      <th>same_uplift</th>\n",
              "      <th>item_cnt_month_item_sum_1</th>\n",
              "      <th>item_cnt_month_shop_sum_1</th>\n",
              "      <th>item_cnt_month_item_sum_2</th>\n",
              "      <th>item_cnt_month_shop_sum_2</th>\n",
              "      <th>item_cnt_month_item_sum_3</th>\n",
              "      <th>item_cnt_month_shop_sum_3</th>\n",
              "      <th>item_cnt_month_item_sum_4</th>\n",
              "      <th>item_cnt_month_shop_sum_4</th>\n",
              "      <th>diff1</th>\n",
              "      <th>diff2</th>\n",
              "      <th>diff3</th>\n",
              "      <th>item_price</th>\n",
              "      <th>revenue</th>\n",
              "      <th>item_prices_mean_lag1</th>\n",
              "      <th>item_prices_mean_lag2</th>\n",
              "      <th>item_prices_mean_lag3</th>\n",
              "      <th>shop_prices_mean_lag1</th>\n",
              "      <th>shop_prices_mean_lag2</th>\n",
              "      <th>shop_prices_mean_lag3</th>\n",
              "      <th>item_price_mean</th>\n",
              "      <th>shop_price_mean</th>\n",
              "      <th>month</th>\n",
              "      <th>item_category_id</th>\n",
              "      <th>last_letter</th>\n",
              "      <th>last_letter_weird</th>\n",
              "      <th>item_TF-IDF0</th>\n",
              "      <th>item_TF-IDF1</th>\n",
              "      <th>item_TF-IDF2</th>\n",
              "      <th>item_TF-IDF3</th>\n",
              "      <th>item_TF-IDF4</th>\n",
              "      <th>shop_city</th>\n",
              "      <th>purchased_on_Internet</th>\n",
              "      <th>first_part_of_name</th>\n",
              "      <th>second_part_of_name</th>\n",
              "      <th>item_cat_TF-IDF0</th>\n",
              "      <th>item_cat_TF-IDF1</th>\n",
              "      <th>item_cat_TF-IDF2</th>\n",
              "      <th>item_cat_TF-IDF3</th>\n",
              "      <th>item_cat_TF-IDF4</th>\n",
              "    </tr>\n",
              "  </thead>\n",
              "  <tbody>\n",
              "    <tr>\n",
              "      <th>0</th>\n",
              "      <td>59</td>\n",
              "      <td>22154</td>\n",
              "      <td>0</td>\n",
              "      <td>1.0</td>\n",
              "      <td>NaN</td>\n",
              "      <td>NaN</td>\n",
              "      <td>NaN</td>\n",
              "      <td>NaN</td>\n",
              "      <td>NaN</td>\n",
              "      <td>NaN</td>\n",
              "      <td>NaN</td>\n",
              "      <td>NaN</td>\n",
              "      <td>NaN</td>\n",
              "      <td>NaN</td>\n",
              "      <td>NaN</td>\n",
              "      <td>NaN</td>\n",
              "      <td>NaN</td>\n",
              "      <td>NaN</td>\n",
              "      <td>NaN</td>\n",
              "      <td>NaN</td>\n",
              "      <td>NaN</td>\n",
              "      <td>NaN</td>\n",
              "      <td>NaN</td>\n",
              "      <td>657.523810</td>\n",
              "      <td>NaN</td>\n",
              "      <td>NaN</td>\n",
              "      <td>NaN</td>\n",
              "      <td>NaN</td>\n",
              "      <td>NaN</td>\n",
              "      <td>NaN</td>\n",
              "      <td>NaN</td>\n",
              "      <td>657.52381</td>\n",
              "      <td>829.073732</td>\n",
              "      <td>0</td>\n",
              "      <td>37</td>\n",
              "      <td>)</td>\n",
              "      <td>0</td>\n",
              "      <td>0.000056</td>\n",
              "      <td>0.081478</td>\n",
              "      <td>0.000127</td>\n",
              "      <td>0.000865</td>\n",
              "      <td>0.001075</td>\n",
              "      <td>Ярославль</td>\n",
              "      <td>0</td>\n",
              "      <td>Кино</td>\n",
              "      <td>Ray</td>\n",
              "      <td>0.0</td>\n",
              "      <td>0.000000</td>\n",
              "      <td>0.0</td>\n",
              "      <td>0.077714</td>\n",
              "      <td>0.0</td>\n",
              "    </tr>\n",
              "    <tr>\n",
              "      <th>1</th>\n",
              "      <td>35</td>\n",
              "      <td>2565</td>\n",
              "      <td>0</td>\n",
              "      <td>0.0</td>\n",
              "      <td>NaN</td>\n",
              "      <td>NaN</td>\n",
              "      <td>NaN</td>\n",
              "      <td>NaN</td>\n",
              "      <td>NaN</td>\n",
              "      <td>NaN</td>\n",
              "      <td>NaN</td>\n",
              "      <td>NaN</td>\n",
              "      <td>NaN</td>\n",
              "      <td>NaN</td>\n",
              "      <td>NaN</td>\n",
              "      <td>NaN</td>\n",
              "      <td>NaN</td>\n",
              "      <td>NaN</td>\n",
              "      <td>NaN</td>\n",
              "      <td>NaN</td>\n",
              "      <td>NaN</td>\n",
              "      <td>NaN</td>\n",
              "      <td>NaN</td>\n",
              "      <td>683.866854</td>\n",
              "      <td>NaN</td>\n",
              "      <td>NaN</td>\n",
              "      <td>NaN</td>\n",
              "      <td>NaN</td>\n",
              "      <td>NaN</td>\n",
              "      <td>NaN</td>\n",
              "      <td>NaN</td>\n",
              "      <td>NaN</td>\n",
              "      <td>854.051896</td>\n",
              "      <td>0</td>\n",
              "      <td>56</td>\n",
              "      <td>)</td>\n",
              "      <td>0</td>\n",
              "      <td>0.000000</td>\n",
              "      <td>0.000083</td>\n",
              "      <td>0.004742</td>\n",
              "      <td>0.001919</td>\n",
              "      <td>0.000000</td>\n",
              "      <td>Н.Новгород</td>\n",
              "      <td>0</td>\n",
              "      <td>Музыка</td>\n",
              "      <td>CD фирменного производства</td>\n",
              "      <td>0.0</td>\n",
              "      <td>0.007155</td>\n",
              "      <td>0.0</td>\n",
              "      <td>0.032959</td>\n",
              "      <td>0.0</td>\n",
              "    </tr>\n",
              "  </tbody>\n",
              "</table>\n",
              "</div>"
            ],
            "text/plain": [
              "   shop_id  item_id  ...  item_cat_TF-IDF3  item_cat_TF-IDF4\n",
              "0       59    22154  ...          0.077714               0.0\n",
              "1       35     2565  ...          0.032959               0.0\n",
              "\n",
              "[2 rows x 51 columns]"
            ]
          },
          "metadata": {
            "tags": []
          },
          "execution_count": 30
        }
      ]
    },
    {
      "cell_type": "code",
      "metadata": {
        "id": "5HinvMd5-36o",
        "colab_type": "code",
        "outputId": "3cf0e6fd-a14e-4a8c-efbf-792cfaca6e28",
        "colab": {
          "base_uri": "https://localhost:8080/",
          "height": 34
        }
      },
      "source": [
        "data  = downcast_dtypes(data)\n",
        "gc.collect()"
      ],
      "execution_count": 31,
      "outputs": [
        {
          "output_type": "execute_result",
          "data": {
            "text/plain": [
              "189"
            ]
          },
          "metadata": {
            "tags": []
          },
          "execution_count": 31
        }
      ]
    },
    {
      "cell_type": "markdown",
      "metadata": {
        "id": "Zx7qsUpoqorp",
        "colab_type": "text"
      },
      "source": [
        "#Mean encodings#"
      ]
    },
    {
      "cell_type": "markdown",
      "metadata": {
        "id": "fhGjhNSqqtUj",
        "colab_type": "text"
      },
      "source": [
        "We've already accumulated lots of categorical features, so let's mean encode them using expanding mean scheme."
      ]
    },
    {
      "cell_type": "code",
      "metadata": {
        "id": "agmclnVArAUS",
        "colab_type": "code",
        "colab": {}
      },
      "source": [
        "from sklearn.preprocessing import LabelEncoder\n",
        "from sklearn.model_selection import KFold\n",
        "cat_cols = ['shop_id', 'item_id', 'month', 'item_category_id', 'shop_city', 'first_part_of_name', 'last_letter',\n",
        "           'second_part_of_name']\n",
        "\n",
        "cols_to_encode = ['first_part_of_name', 'second_part_of_name', 'shop_city', 'last_letter']\n",
        "\n",
        "le = LabelEncoder()\n",
        "for col in cols_to_encode:\n",
        "  data[col] = data[col].apply(str)\n",
        "  data[col] = le.fit_transform(data[col])\n",
        "gc.collect()\n",
        "\n",
        "globalmean = data['item_cnt_month'].mean()\n",
        "\n",
        "for col in cat_cols:\n",
        "  sums = data.groupby(col)['item_cnt_month'].cumsum() - data['item_cnt_month']\n",
        "  counts = data.groupby(col)['item_cnt_month'].cumcount() + 1\n",
        "  data[col + '_encoded'] = sums / counts\n",
        "  data[col + '_encoded'].fillna(globalmean, inplace = True)"
      ],
      "execution_count": 0,
      "outputs": []
    },
    {
      "cell_type": "markdown",
      "metadata": {
        "id": "rNPxvvzTKyJ4",
        "colab_type": "text"
      },
      "source": [
        "So, now our data looks like:"
      ]
    },
    {
      "cell_type": "code",
      "metadata": {
        "id": "eQ32C6OyK18y",
        "colab_type": "code",
        "outputId": "cfe64345-91fc-4414-be21-63bdef59b461",
        "colab": {
          "base_uri": "https://localhost:8080/",
          "height": 210
        }
      },
      "source": [
        "data[8000000:8000004]"
      ],
      "execution_count": 33,
      "outputs": [
        {
          "output_type": "execute_result",
          "data": {
            "text/html": [
              "<div>\n",
              "<style scoped>\n",
              "    .dataframe tbody tr th:only-of-type {\n",
              "        vertical-align: middle;\n",
              "    }\n",
              "\n",
              "    .dataframe tbody tr th {\n",
              "        vertical-align: top;\n",
              "    }\n",
              "\n",
              "    .dataframe thead th {\n",
              "        text-align: right;\n",
              "    }\n",
              "</style>\n",
              "<table border=\"1\" class=\"dataframe\">\n",
              "  <thead>\n",
              "    <tr style=\"text-align: right;\">\n",
              "      <th></th>\n",
              "      <th>shop_id</th>\n",
              "      <th>item_id</th>\n",
              "      <th>date_block_num</th>\n",
              "      <th>item_cnt_month</th>\n",
              "      <th>item_cnt_month_lag1</th>\n",
              "      <th>item_cnt_month_lag2</th>\n",
              "      <th>item_cnt_month_lag3</th>\n",
              "      <th>item_cnt_month_lag4</th>\n",
              "      <th>item_cnt_month_lag12</th>\n",
              "      <th>item_cnt_month_lag13</th>\n",
              "      <th>previous_uplift</th>\n",
              "      <th>same_uplift</th>\n",
              "      <th>item_cnt_month_item_sum_1</th>\n",
              "      <th>item_cnt_month_shop_sum_1</th>\n",
              "      <th>item_cnt_month_item_sum_2</th>\n",
              "      <th>item_cnt_month_shop_sum_2</th>\n",
              "      <th>item_cnt_month_item_sum_3</th>\n",
              "      <th>item_cnt_month_shop_sum_3</th>\n",
              "      <th>item_cnt_month_item_sum_4</th>\n",
              "      <th>item_cnt_month_shop_sum_4</th>\n",
              "      <th>diff1</th>\n",
              "      <th>diff2</th>\n",
              "      <th>diff3</th>\n",
              "      <th>item_price</th>\n",
              "      <th>revenue</th>\n",
              "      <th>item_prices_mean_lag1</th>\n",
              "      <th>item_prices_mean_lag2</th>\n",
              "      <th>item_prices_mean_lag3</th>\n",
              "      <th>shop_prices_mean_lag1</th>\n",
              "      <th>shop_prices_mean_lag2</th>\n",
              "      <th>shop_prices_mean_lag3</th>\n",
              "      <th>item_price_mean</th>\n",
              "      <th>shop_price_mean</th>\n",
              "      <th>month</th>\n",
              "      <th>item_category_id</th>\n",
              "      <th>last_letter</th>\n",
              "      <th>last_letter_weird</th>\n",
              "      <th>item_TF-IDF0</th>\n",
              "      <th>item_TF-IDF1</th>\n",
              "      <th>item_TF-IDF2</th>\n",
              "      <th>item_TF-IDF3</th>\n",
              "      <th>item_TF-IDF4</th>\n",
              "      <th>shop_city</th>\n",
              "      <th>purchased_on_Internet</th>\n",
              "      <th>first_part_of_name</th>\n",
              "      <th>second_part_of_name</th>\n",
              "      <th>item_cat_TF-IDF0</th>\n",
              "      <th>item_cat_TF-IDF1</th>\n",
              "      <th>item_cat_TF-IDF2</th>\n",
              "      <th>item_cat_TF-IDF3</th>\n",
              "      <th>item_cat_TF-IDF4</th>\n",
              "      <th>shop_id_encoded</th>\n",
              "      <th>item_id_encoded</th>\n",
              "      <th>month_encoded</th>\n",
              "      <th>item_category_id_encoded</th>\n",
              "      <th>shop_city_encoded</th>\n",
              "      <th>first_part_of_name_encoded</th>\n",
              "      <th>last_letter_encoded</th>\n",
              "      <th>second_part_of_name_encoded</th>\n",
              "    </tr>\n",
              "  </thead>\n",
              "  <tbody>\n",
              "    <tr>\n",
              "      <th>8000000</th>\n",
              "      <td>58</td>\n",
              "      <td>4418</td>\n",
              "      <td>22</td>\n",
              "      <td>0.0</td>\n",
              "      <td>0.0</td>\n",
              "      <td>1.0</td>\n",
              "      <td>1.0</td>\n",
              "      <td>0.0</td>\n",
              "      <td>0.0</td>\n",
              "      <td>0.0</td>\n",
              "      <td>0.0</td>\n",
              "      <td>0.0</td>\n",
              "      <td>13.0</td>\n",
              "      <td>1965.0</td>\n",
              "      <td>11.0</td>\n",
              "      <td>2088.0</td>\n",
              "      <td>18.0</td>\n",
              "      <td>2633.0</td>\n",
              "      <td>13.0</td>\n",
              "      <td>2166.0</td>\n",
              "      <td>-1.0</td>\n",
              "      <td>0.0</td>\n",
              "      <td>1.0</td>\n",
              "      <td>296.936554</td>\n",
              "      <td>NaN</td>\n",
              "      <td>299.000000</td>\n",
              "      <td>299.000000</td>\n",
              "      <td>292.944458</td>\n",
              "      <td>922.806763</td>\n",
              "      <td>864.210754</td>\n",
              "      <td>819.373962</td>\n",
              "      <td>296.936554</td>\n",
              "      <td>759.14502</td>\n",
              "      <td>10</td>\n",
              "      <td>55</td>\n",
              "      <td>63</td>\n",
              "      <td>0</td>\n",
              "      <td>0.000265</td>\n",
              "      <td>0.000014</td>\n",
              "      <td>0.000782</td>\n",
              "      <td>0.000204</td>\n",
              "      <td>0.000000</td>\n",
              "      <td>29</td>\n",
              "      <td>0</td>\n",
              "      <td>13</td>\n",
              "      <td>1</td>\n",
              "      <td>0.000000</td>\n",
              "      <td>0.007155</td>\n",
              "      <td>0.0</td>\n",
              "      <td>0.032959</td>\n",
              "      <td>0.0</td>\n",
              "      <td>0.359564</td>\n",
              "      <td>0.201305</td>\n",
              "      <td>0.316654</td>\n",
              "      <td>0.221770</td>\n",
              "      <td>0.496928</td>\n",
              "      <td>0.172754</td>\n",
              "      <td>0.245543</td>\n",
              "      <td>0.221770</td>\n",
              "    </tr>\n",
              "    <tr>\n",
              "      <th>8000001</th>\n",
              "      <td>58</td>\n",
              "      <td>1916</td>\n",
              "      <td>22</td>\n",
              "      <td>3.0</td>\n",
              "      <td>1.0</td>\n",
              "      <td>2.0</td>\n",
              "      <td>2.0</td>\n",
              "      <td>1.0</td>\n",
              "      <td>1.0</td>\n",
              "      <td>0.0</td>\n",
              "      <td>1.0</td>\n",
              "      <td>2.0</td>\n",
              "      <td>110.0</td>\n",
              "      <td>1965.0</td>\n",
              "      <td>107.0</td>\n",
              "      <td>2088.0</td>\n",
              "      <td>136.0</td>\n",
              "      <td>2633.0</td>\n",
              "      <td>130.0</td>\n",
              "      <td>2166.0</td>\n",
              "      <td>-1.0</td>\n",
              "      <td>0.0</td>\n",
              "      <td>1.0</td>\n",
              "      <td>249.000000</td>\n",
              "      <td>249.0</td>\n",
              "      <td>246.736877</td>\n",
              "      <td>247.869904</td>\n",
              "      <td>244.165543</td>\n",
              "      <td>922.806763</td>\n",
              "      <td>864.210754</td>\n",
              "      <td>819.373962</td>\n",
              "      <td>244.066895</td>\n",
              "      <td>759.14502</td>\n",
              "      <td>10</td>\n",
              "      <td>30</td>\n",
              "      <td>46</td>\n",
              "      <td>0</td>\n",
              "      <td>0.044270</td>\n",
              "      <td>0.000000</td>\n",
              "      <td>0.023485</td>\n",
              "      <td>0.043217</td>\n",
              "      <td>0.000000</td>\n",
              "      <td>29</td>\n",
              "      <td>0</td>\n",
              "      <td>8</td>\n",
              "      <td>50</td>\n",
              "      <td>0.000000</td>\n",
              "      <td>0.329678</td>\n",
              "      <td>0.0</td>\n",
              "      <td>0.000000</td>\n",
              "      <td>0.0</td>\n",
              "      <td>0.359562</td>\n",
              "      <td>3.727866</td>\n",
              "      <td>0.316654</td>\n",
              "      <td>1.147175</td>\n",
              "      <td>0.496927</td>\n",
              "      <td>0.747564</td>\n",
              "      <td>0.691878</td>\n",
              "      <td>1.147175</td>\n",
              "    </tr>\n",
              "    <tr>\n",
              "      <th>8000002</th>\n",
              "      <td>58</td>\n",
              "      <td>4408</td>\n",
              "      <td>22</td>\n",
              "      <td>0.0</td>\n",
              "      <td>0.0</td>\n",
              "      <td>0.0</td>\n",
              "      <td>NaN</td>\n",
              "      <td>NaN</td>\n",
              "      <td>NaN</td>\n",
              "      <td>NaN</td>\n",
              "      <td>NaN</td>\n",
              "      <td>NaN</td>\n",
              "      <td>54.0</td>\n",
              "      <td>1965.0</td>\n",
              "      <td>3.0</td>\n",
              "      <td>2088.0</td>\n",
              "      <td>NaN</td>\n",
              "      <td>2633.0</td>\n",
              "      <td>NaN</td>\n",
              "      <td>2166.0</td>\n",
              "      <td>0.0</td>\n",
              "      <td>NaN</td>\n",
              "      <td>NaN</td>\n",
              "      <td>297.322144</td>\n",
              "      <td>NaN</td>\n",
              "      <td>297.137268</td>\n",
              "      <td>299.000000</td>\n",
              "      <td>NaN</td>\n",
              "      <td>922.806763</td>\n",
              "      <td>864.210754</td>\n",
              "      <td>819.373962</td>\n",
              "      <td>297.322144</td>\n",
              "      <td>759.14502</td>\n",
              "      <td>10</td>\n",
              "      <td>55</td>\n",
              "      <td>64</td>\n",
              "      <td>0</td>\n",
              "      <td>0.000000</td>\n",
              "      <td>0.000000</td>\n",
              "      <td>0.000007</td>\n",
              "      <td>0.000039</td>\n",
              "      <td>0.000000</td>\n",
              "      <td>29</td>\n",
              "      <td>0</td>\n",
              "      <td>13</td>\n",
              "      <td>1</td>\n",
              "      <td>0.000000</td>\n",
              "      <td>0.007155</td>\n",
              "      <td>0.0</td>\n",
              "      <td>0.032959</td>\n",
              "      <td>0.0</td>\n",
              "      <td>0.359579</td>\n",
              "      <td>0.630435</td>\n",
              "      <td>0.316658</td>\n",
              "      <td>0.221770</td>\n",
              "      <td>0.496934</td>\n",
              "      <td>0.172754</td>\n",
              "      <td>0.172269</td>\n",
              "      <td>0.221770</td>\n",
              "    </tr>\n",
              "    <tr>\n",
              "      <th>8000003</th>\n",
              "      <td>58</td>\n",
              "      <td>4396</td>\n",
              "      <td>22</td>\n",
              "      <td>1.0</td>\n",
              "      <td>0.0</td>\n",
              "      <td>0.0</td>\n",
              "      <td>2.0</td>\n",
              "      <td>1.0</td>\n",
              "      <td>NaN</td>\n",
              "      <td>NaN</td>\n",
              "      <td>NaN</td>\n",
              "      <td>NaN</td>\n",
              "      <td>16.0</td>\n",
              "      <td>1965.0</td>\n",
              "      <td>6.0</td>\n",
              "      <td>2088.0</td>\n",
              "      <td>19.0</td>\n",
              "      <td>2633.0</td>\n",
              "      <td>20.0</td>\n",
              "      <td>2166.0</td>\n",
              "      <td>0.0</td>\n",
              "      <td>-2.0</td>\n",
              "      <td>1.0</td>\n",
              "      <td>2551.679932</td>\n",
              "      <td>NaN</td>\n",
              "      <td>2540.968750</td>\n",
              "      <td>2599.000000</td>\n",
              "      <td>2560.985596</td>\n",
              "      <td>922.806763</td>\n",
              "      <td>864.210754</td>\n",
              "      <td>819.373962</td>\n",
              "      <td>2551.679932</td>\n",
              "      <td>759.14502</td>\n",
              "      <td>10</td>\n",
              "      <td>23</td>\n",
              "      <td>46</td>\n",
              "      <td>0</td>\n",
              "      <td>0.000000</td>\n",
              "      <td>0.000750</td>\n",
              "      <td>0.000942</td>\n",
              "      <td>0.096680</td>\n",
              "      <td>0.000784</td>\n",
              "      <td>29</td>\n",
              "      <td>0</td>\n",
              "      <td>5</td>\n",
              "      <td>15</td>\n",
              "      <td>0.066383</td>\n",
              "      <td>0.321569</td>\n",
              "      <td>0.0</td>\n",
              "      <td>0.000000</td>\n",
              "      <td>0.0</td>\n",
              "      <td>0.359577</td>\n",
              "      <td>0.455959</td>\n",
              "      <td>0.316658</td>\n",
              "      <td>0.683111</td>\n",
              "      <td>0.496933</td>\n",
              "      <td>0.693735</td>\n",
              "      <td>0.691880</td>\n",
              "      <td>0.657877</td>\n",
              "    </tr>\n",
              "  </tbody>\n",
              "</table>\n",
              "</div>"
            ],
            "text/plain": [
              "         shop_id  item_id  ...  last_letter_encoded  second_part_of_name_encoded\n",
              "8000000       58     4418  ...             0.245543                     0.221770\n",
              "8000001       58     1916  ...             0.691878                     1.147175\n",
              "8000002       58     4408  ...             0.172269                     0.221770\n",
              "8000003       58     4396  ...             0.691880                     0.657877\n",
              "\n",
              "[4 rows x 59 columns]"
            ]
          },
          "metadata": {
            "tags": []
          },
          "execution_count": 33
        }
      ]
    },
    {
      "cell_type": "code",
      "metadata": {
        "id": "k_XYKZfB5bBr",
        "colab_type": "code",
        "outputId": "5fab1d5c-79a5-4acd-9cda-5bbc010c6e1b",
        "colab": {
          "base_uri": "https://localhost:8080/",
          "height": 34
        }
      },
      "source": [
        "#dowcasting types in order to save memory\n",
        "data = downcast_dtypes(data)\n",
        "gc.collect()"
      ],
      "execution_count": 34,
      "outputs": [
        {
          "output_type": "execute_result",
          "data": {
            "text/plain": [
              "21"
            ]
          },
          "metadata": {
            "tags": []
          },
          "execution_count": 34
        }
      ]
    },
    {
      "cell_type": "markdown",
      "metadata": {
        "id": "y8k0ytZaZnLa",
        "colab_type": "text"
      },
      "source": [
        "We have to erase first 13 months as our lag is 13."
      ]
    },
    {
      "cell_type": "code",
      "metadata": {
        "id": "ByXzD7WUXOvE",
        "colab_type": "code",
        "colab": {}
      },
      "source": [
        "data = data[data.date_block_num >= 13]\n",
        "data.fillna(0)\n",
        "gc.collect()\n",
        "data.to_csv('data.csv', index = False)"
      ],
      "execution_count": 0,
      "outputs": []
    },
    {
      "cell_type": "markdown",
      "metadata": {
        "id": "QeQWVvOqjj_1",
        "colab_type": "text"
      },
      "source": [
        "#Fitting models#"
      ]
    },
    {
      "cell_type": "markdown",
      "metadata": {
        "id": "napuPWSa1-Br",
        "colab_type": "text"
      },
      "source": [
        "**Important moment** - you may be running out of RAM at this point. If that is an issue, just restart runtime and download 'data.csv' file."
      ]
    },
    {
      "cell_type": "code",
      "metadata": {
        "id": "OxypZj-s2Xhh",
        "colab_type": "code",
        "outputId": "a5c5d928-5808-4d78-9629-1d4eb76e5e22",
        "colab": {
          "base_uri": "https://localhost:8080/",
          "height": 34
        }
      },
      "source": [
        "#Run this cell if you've restarted runtime.\n",
        "import pandas as pd\n",
        "import numpy as np\n",
        "import matplotlib.pyplot as plt\n",
        "import seaborn as sns\n",
        "import plotly.offline as py\n",
        "import plotly.graph_objs as go\n",
        "import warnings\n",
        "import xgboost as xgb\n",
        "import gc\n",
        "%matplotlib inline\n",
        "sns.set()\n",
        "\n",
        "warnings.filterwarnings('ignore')\n",
        "print(xgb.__version__)"
      ],
      "execution_count": 1,
      "outputs": [
        {
          "output_type": "stream",
          "text": [
            "0.80\n"
          ],
          "name": "stdout"
        }
      ]
    },
    {
      "cell_type": "markdown",
      "metadata": {
        "id": "kUbSC6tYjwm1",
        "colab_type": "text"
      },
      "source": [
        "Out stacking scheme wil be the following:\n",
        "\n",
        "*   Fitting random forest and gradient boosting on train data (date_block_num <= 32) and validating them on validation data (date_block_num = 33)\n",
        "*   Predicting meta-features for validation and test data\n",
        "*   Fitting linear regression on meta-features using validation data (linear regression doesn't have any parameters, so we won't need to validate it)\n",
        "* Predicting values for the test set.\n"
      ]
    },
    {
      "cell_type": "code",
      "metadata": {
        "id": "cYg8KAVvkpfv",
        "colab_type": "code",
        "outputId": "7d62f3aa-b256-45e4-c8ee-ac878f9c81c8",
        "colab": {
          "base_uri": "https://localhost:8080/",
          "height": 34
        }
      },
      "source": [
        "#dividing data on train, validation and test\n",
        "#data = pd.read_csv('data.csv') #Uncomment if you've restarted runtime.\n",
        "\n",
        "train_data = data[(data.date_block_num < 33) & (data.date_block_num >= 13)]\n",
        "val_data = data[data.date_block_num == 33]\n",
        "test_data = data[data.date_block_num == 34]\n",
        "\n",
        "del data\n",
        "gc.collect()"
      ],
      "execution_count": 2,
      "outputs": [
        {
          "output_type": "execute_result",
          "data": {
            "text/plain": [
              "4"
            ]
          },
          "metadata": {
            "tags": []
          },
          "execution_count": 2
        }
      ]
    },
    {
      "cell_type": "markdown",
      "metadata": {
        "id": "u2Vn2E3j1Z7f",
        "colab_type": "text"
      },
      "source": [
        "We load data in DMatrix to use non-sklearn interface of XGBoost. For unknown reasons, the sklearn interface raises errors while training on GPU."
      ]
    },
    {
      "cell_type": "code",
      "metadata": {
        "id": "YTYzigCR_zEl",
        "colab_type": "code",
        "colab": {}
      },
      "source": [
        "columns = train_data.drop(['item_cnt_month'], axis = 1).columns\n",
        "xgb_train = xgb.DMatrix(train_data.drop(['item_cnt_month'], axis = 1).values,\n",
        "                         label = train_data['item_cnt_month'].values, feature_names = columns)"
      ],
      "execution_count": 0,
      "outputs": []
    },
    {
      "cell_type": "code",
      "metadata": {
        "id": "fUgStcJIAMGs",
        "colab_type": "code",
        "colab": {}
      },
      "source": [
        "xgb_val = xgb.DMatrix(val_data.drop(['item_cnt_month'], axis = 1).values, feature_names = columns, \n",
        "                     label = val_data['item_cnt_month'].values)"
      ],
      "execution_count": 0,
      "outputs": []
    },
    {
      "cell_type": "code",
      "metadata": {
        "id": "WSOO7oog1YA2",
        "colab_type": "code",
        "colab": {}
      },
      "source": [
        "xgb_test = xgb.DMatrix(test_data.drop(['item_cnt_month'], axis = 1).values, feature_names = columns)\n",
        "X_test = test_data.drop('item_cnt_month', axis = 1).values"
      ],
      "execution_count": 0,
      "outputs": []
    },
    {
      "cell_type": "markdown",
      "metadata": {
        "id": "trCbMAyq25X9",
        "colab_type": "text"
      },
      "source": [
        "These parameters are roughly optimal as I've learned after performing some experiments."
      ]
    },
    {
      "cell_type": "code",
      "metadata": {
        "id": "pDRp8QYtAbqf",
        "colab_type": "code",
        "outputId": "9b62ca32-e3ce-4fc7-90d9-99054b48d0a4",
        "colab": {
          "base_uri": "https://localhost:8080/",
          "height": 34
        }
      },
      "source": [
        "#fitting gradient boosting\n",
        "param = {'gpu_id' : 0, 'tree_method' : 'gpu_hist', 'max_bin' : 1024, \n",
        "        'eval_metric' : 'rmse', 'max_depth' : 7, 'min_child_weight' : 300, 'subsample' : 0.7, \n",
        "         'colsample_bytree' : 0.9, 'seed' : 42}\n",
        "\n",
        "tree_boosting = xgb.train(param, xgb_train, num_boost_round = 50)\n",
        "print('Score on validation set for first level models: ', tree_boosting.eval(xgb_val))"
      ],
      "execution_count": 6,
      "outputs": [
        {
          "output_type": "stream",
          "text": [
            "Score on validation set for first level models:  [0]\teval-rmse:0.804056\n"
          ],
          "name": "stdout"
        }
      ]
    },
    {
      "cell_type": "code",
      "metadata": {
        "id": "56dAvv_FizBZ",
        "colab_type": "code",
        "outputId": "7ef080b2-20f2-43fc-cfbe-fe105e5743af",
        "colab": {
          "base_uri": "https://localhost:8080/",
          "height": 34
        }
      },
      "source": [
        "#fitting random forest\n",
        "param = {'gpu_id' : 0, 'tree_method' : 'gpu_hist', 'max_bin' : 1024, \n",
        "        'eval_metric' : 'rmse', 'num_parallel_tree' : 200, 'max_depth' : 10, 'min_child_weight' : 200,\n",
        "        'seed' : 42}\n",
        "\n",
        "random_forest = xgb.train(param, xgb_train, num_boost_round = 1)\n",
        "print('Score on validation set for first level models: ', random_forest.eval(xgb_val))"
      ],
      "execution_count": 7,
      "outputs": [
        {
          "output_type": "stream",
          "text": [
            "Score on validation set for first level models:  [0]\teval-rmse:1.003205\n"
          ],
          "name": "stdout"
        }
      ]
    },
    {
      "cell_type": "code",
      "metadata": {
        "id": "LsW-L9EVjfqD",
        "colab_type": "code",
        "colab": {}
      },
      "source": [
        "#fitting metamodel - linear regression\n",
        "from sklearn.linear_model import LinearRegression\n",
        "meta_val = np.vstack((tree_boosting.predict(xgb_val), random_forest.predict(xgb_val))).T\n",
        "meta_test = np.vstack((tree_boosting.predict(xgb_test), random_forest.predict(xgb_test))).T\n",
        "\n",
        "metamodel = LinearRegression()\n",
        "metamodel.fit(meta_val, xgb_val.get_label())\n",
        "test_predictions = metamodel.predict(meta_test)"
      ],
      "execution_count": 0,
      "outputs": []
    },
    {
      "cell_type": "code",
      "metadata": {
        "id": "or8uALh0kzxF",
        "colab_type": "code",
        "colab": {}
      },
      "source": [
        "#downloading the file with predictions\n",
        "sample = pd.read_csv('sample_submission.csv')\n",
        "sample['item_cnt_month'] = test_predictions.clip(0,20)\n",
        "sample.to_csv('result.csv', index = False) #0.995926 and 0.997697"
      ],
      "execution_count": 0,
      "outputs": []
    },
    {
      "cell_type": "markdown",
      "metadata": {
        "id": "eo73dSTT9yeY",
        "colab_type": "text"
      },
      "source": [
        "Let's look at feature importances in the gradient boosting model."
      ]
    },
    {
      "cell_type": "code",
      "metadata": {
        "id": "lCV1FQ0Ru9iB",
        "colab_type": "code",
        "outputId": "709739db-a51d-4567-f4ca-4c8a58671a11",
        "colab": {
          "base_uri": "https://localhost:8080/",
          "height": 916
        }
      },
      "source": [
        "fig, ax = plt.subplots(1,1,figsize = (10, 15))\n",
        "plot = xgb.plot_importance(tree_boosting, ax=ax)\n",
        "fig = plot.get_figure()\n",
        "fig.savefig('importances.png')\n",
        "plot"
      ],
      "execution_count": 11,
      "outputs": [
        {
          "output_type": "execute_result",
          "data": {
            "text/plain": [
              "<matplotlib.axes._subplots.AxesSubplot at 0x7f770002dc50>"
            ]
          },
          "metadata": {
            "tags": []
          },
          "execution_count": 11
        },
        {
          "output_type": "display_data",
          "data": {
            "image/png": "[encoded data removed]",
            "text/plain": [
              "<Figure size 720x1080 with 1 Axes>"
            ]
          },
          "metadata": {
            "tags": []
          }
        }
      ]
    },
    {
      "cell_type": "markdown",
      "metadata": {
        "colab_type": "text",
        "id": "OkVFCMPNt3V1"
      },
      "source": [
        "#Getting the simplified model (required for Kaggle Winning Model documentation).#"
      ]
    },
    {
      "cell_type": "code",
      "metadata": {
        "id": "wviHvltrt4He",
        "colab_type": "code",
        "colab": {}
      },
      "source": [
        "best_cols = ['item_cnt_month_item_sum_1', 'item_id_encoded', 'item_cnt_month_lag1', 'item_cnt_month_item_sum_2',\n",
        "            'month', 'shop_id_encoded', 'month_encoded', 'item_cnt_month_lag2', 'item_prices_mean_lag2']\n",
        "\n",
        "xgb_train_simple = xgb.DMatrix(train_data[best_cols].values, label = train_data['item_cnt_month'])\n",
        "xgb_val_simple = xgb.DMatrix(val_data[best_cols].values, label = val_data['item_cnt_month'].values)\n",
        "xgb_test_simple = xgb.DMatrix(test_data[best_cols].values)"
      ],
      "execution_count": 0,
      "outputs": []
    },
    {
      "cell_type": "code",
      "metadata": {
        "id": "9sO6o-D-v9NM",
        "colab_type": "code",
        "colab": {
          "base_uri": "https://localhost:8080/",
          "height": 34
        },
        "outputId": "e85cd49d-9532-46e8-b60b-d01bc27f29a8"
      },
      "source": [
        "param = {'gpu_id' : 0, 'tree_method' : 'gpu_hist', 'max_bin' : 1024, \n",
        "        'eval_metric' : 'rmse', 'seed' : 42}\n",
        "simple_boosting = xgb.train(param, xgb_train_simple, num_boost_round = 30)\n",
        "\n",
        "print('Score on validation set for first level models: ', simple_boosting.eval(xgb_val_simple))\n",
        "\n",
        "simple_pred = simple_boosting.predict(xgb_test_simple)"
      ],
      "execution_count": 15,
      "outputs": [
        {
          "output_type": "stream",
          "text": [
            "Score on validation set for first level models:  [0]\teval-rmse:0.865870\n"
          ],
          "name": "stdout"
        }
      ]
    },
    {
      "cell_type": "code",
      "metadata": {
        "id": "-TiBaqGZwna8",
        "colab_type": "code",
        "colab": {}
      },
      "source": [
        "sample = pd.read_csv('sample_submission.csv')\n",
        "sample['item_cnt_month'] = simple_pred.clip(0,20)\n",
        "sample.to_csv('result_simple.csv', index = False) #1.012726 and 1.017646"
      ],
      "execution_count": 0,
      "outputs": []
    }
  ]
}